{
 "cells": [
  {
   "cell_type": "code",
   "execution_count": 2,
   "metadata": {
    "collapsed": true
   },
   "outputs": [],
   "source": [
    "import numpy as np\n",
    "import pandas as pd\n",
    "import json\n",
    "import random\n",
    "import requests\n",
    "import matplotlib.pyplot as plt\n",
    "from tqdm import tqdm_notebook\n",
    "from xgboost import XGBRegressor\n",
    "from sklearn.metrics import mean_squared_error\n",
    "from math import sqrt\n",
    "import warnings\n",
    "warnings.filterwarnings('ignore')"
   ]
  },
  {
   "cell_type": "markdown",
   "metadata": {
    "collapsed": true
   },
   "source": [
    "### Query by commitee"
   ]
  },
  {
   "cell_type": "code",
   "execution_count": 3,
   "metadata": {
    "collapsed": true
   },
   "outputs": [],
   "source": [
    "class Parse:\n",
    "    def __init__(self):\n",
    "        self.X_unlabeled = np.loadtxt(path_unlabeled)\n",
    "        \n",
    "    def _save_labeled(self, X, y):\n",
    "        with open(path_labeled, 'a') as ifile:\n",
    "            for i, x in enumerate(X):\n",
    "                ifile.write(str(y[i]) + ' ' + ' '.join(np.array(x).astype('str')) + '\\n')\n",
    "            \n",
    "    def _save_unlabeled(self):\n",
    "        np.savetxt(path_unlabeled, self.X_unlabeled, fmt='%.15f')\n",
    "        \n",
    "    def _link(self, X):\n",
    "        answers = []\n",
    "        for x in X:\n",
    "            url = 'https://oraclets6208571042618710905.appspot.com/oracle?x1=' + \\\n",
    "                str(x[0]) + '&x2=' + str(x[1]) + '&x3=' + str(x[2]) + '&x4=' + str(x[3]) + '&x5=' + str(x[4]) + \\\n",
    "                '&x6=' + str(x[5]) + '&x7=' + str(x[6]) + '&x8=' + str(x[7]) + '&x9=' + str(x[8]) + '&x10=' + str(x[9])\n",
    "            response = float(requests.get(url).content.decode().split()[3])\n",
    "            answers.append(response)\n",
    "        return answers\n",
    "            \n",
    "    def get_target(self, id_new):\n",
    "        X = self.X_unlabeled[id_new]\n",
    "        target_new = self._link(X)\n",
    "        self._save_labeled(X, target_new)\n",
    "        self.X_unlabeled = np.delete(self.X_unlabeled, id_new, axis=0)\n",
    "        self._save_unlabeled()\n",
    "        return target_new\n",
    "            \n",
    "    def get_unlabeled(self):\n",
    "        return self.X_unlabeled   "
   ]
  },
  {
   "cell_type": "code",
   "execution_count": 4,
   "metadata": {
    "collapsed": true
   },
   "outputs": [],
   "source": [
    "class ActiveLearning:\n",
    "    def __init__(self, X, y, n=200):\n",
    "        self.X = X\n",
    "        self.y = y\n",
    "        self.n = n\n",
    "        \n",
    "    def _update(self):\n",
    "        X = np.concatenate(([self.X, self.X_new]), axis=0)\n",
    "        y = np.concatenate(([self.y, self.y_new]), axis=0)\n",
    "        return X, y\n",
    "        \n",
    "    def query(self):\n",
    "        X_unlabeled = parse.get_unlabeled()\n",
    "        n_algoritms = 10\n",
    "        step = len(self.X) / n_algoritms\n",
    "        predicts = []\n",
    "        for i in range(n_algoritms):\n",
    "            model.fit(self.X[int(i*step):int((i+1)*step)], self.y[int(i*step):int((i+1)*step)])\n",
    "            predicts.append(model.predict(X_unlabeled))\n",
    "        \n",
    "        mean_predicts = np.mean(np.array(predicts), axis=0)\n",
    "        diff = sum((predicts - mean_predicts)**2)\n",
    "        answer = list(zip(diff, range(len(X_unlabeled))))\n",
    "        answer = sorted(answer, key=lambda x: x[0], reverse=True)\n",
    "        id_new = [idx for a, idx in answer[:self.n]]\n",
    "        self.X_new = X_unlabeled[id_new]\n",
    "        self.y_new = parse.get_target(id_new)\n",
    "        return self._update()"
   ]
  },
  {
   "cell_type": "code",
   "execution_count": 5,
   "metadata": {
    "collapsed": true
   },
   "outputs": [],
   "source": [
    "class RandomSampling:\n",
    "    def __init__(self, X, y, n=10):\n",
    "        self.X = X\n",
    "        self.y = y\n",
    "        self.n = n\n",
    "        \n",
    "    def _update(self):\n",
    "        X = np.concatenate(([self.X, self.X_new]), axis=0)\n",
    "        y = np.concatenate(([self.y, self.y_new]), axis=0)\n",
    "        return X, y\n",
    "    \n",
    "    def query(self):\n",
    "        X_unlabeled = parse.get_unlabeled()\n",
    "        id_new = random.sample(range(0, X_unlabeled.shape[0]), self.n)\n",
    "        self.X_new = X_unlabeled[id_new]\n",
    "        self.y_new = parse.get_target(id_new)\n",
    "        return self._update()"
   ]
  },
  {
   "cell_type": "code",
   "execution_count": 6,
   "metadata": {
    "collapsed": true
   },
   "outputs": [],
   "source": [
    "def get_test():\n",
    "    test_data  = np.loadtxt(path_test)\n",
    "    X_test = test_data[:, 1:]\n",
    "    y_test = test_data[:, 0]\n",
    "    return X_test, y_test\n",
    "\n",
    "def get_valid():\n",
    "    valid_data  = np.loadtxt(path_valid)\n",
    "    X_valid = valid_data[:, 1:]\n",
    "    y_valid = valid_data[:, 0]\n",
    "    return X_valid, y_valid\n",
    "\n",
    "def get_train():\n",
    "    X_train = []\n",
    "    y_train = []\n",
    "    train_data = np.loadtxt(path_train)\n",
    "    if len(train_data) > 0:\n",
    "        X_train = train_data[:, 1:]\n",
    "        y_train = train_data[:, 0]\n",
    "\n",
    "    train_data = np.loadtxt(path_labeled)\n",
    "    if len(train_data) > 0:\n",
    "        X_train = np.concatenate(([X_train, train_data[:, 1:]]), axis=0)\n",
    "        y_train = np.concatenate(([y_train, train_data[:, 0]]), axis=0)\n",
    "        \n",
    "    return X_train, y_train\n",
    "\n",
    "def create_random(n):\n",
    "    data = 10 * np.random.random_sample((n, 10))\n",
    "    np.savetxt(path_unlabeled, data, fmt='%.15f')\n",
    "    \n",
    "def save_files(loss, train_size):\n",
    "    with open(path_loss, 'a') as ifile:\n",
    "        for i, l in enumerate(loss):\n",
    "            ifile.write(str(loss[i]) + '\\n')\n",
    "            \n",
    "    with open(path_size, 'a') as ifile:\n",
    "        for i, t in enumerate(train_size):\n",
    "            ifile.write(str(train_size[i]) + '\\n')"
   ]
  },
  {
   "cell_type": "code",
   "execution_count": 7,
   "metadata": {
    "collapsed": true
   },
   "outputs": [],
   "source": [
    "def eActive(X_train, y_train):\n",
    "    isRandom = np.random.binomial(1, 0.01)\n",
    "    if isRandom == 1:\n",
    "        random_sampling = RandomSampling(X_train, y_train)\n",
    "        X_train, y_train = random_sampling.query()\n",
    "    else:\n",
    "        active_learning = ActiveLearning(X_train, y_train)\n",
    "        X_train, y_train = active_learning.query()\n",
    "\n",
    "    model.fit(X_train, y_train)\n",
    "    y_pred = model.predict(X_test)\n",
    "    rmse = sqrt(mean_squared_error(y_test, y_pred))\n",
    "    loss.append(rmse)\n",
    "    size.append(X_train.shape[0])\n",
    "    return X_train, y_train"
   ]
  },
  {
   "cell_type": "code",
   "execution_count": 8,
   "metadata": {
    "collapsed": true
   },
   "outputs": [],
   "source": [
    "model = XGBRegressor(n_estimators=200, subsample=0.2, max_depth=4, learning_rate=0.1, nthread=-1)"
   ]
  },
  {
   "cell_type": "code",
   "execution_count": 9,
   "metadata": {
    "collapsed": true
   },
   "outputs": [],
   "source": [
    "path_unlabeled = './data/unlabeled.txt'\n",
    "path_labeled = './data/labeled.txt'\n",
    "path_train = './data/train.txt'\n",
    "path_test = './data/test.txt'\n",
    "path_valid = './data/valid.txt'\n",
    "path_loss = './data/loss.txt'\n",
    "path_size = './data/size.txt'\n",
    "loss = list(np.loadtxt(path_loss))\n",
    "size = list(np.loadtxt(path_size))\n",
    "X_test, y_test = get_test()"
   ]
  },
  {
   "cell_type": "code",
   "execution_count": 10,
   "metadata": {
    "collapsed": true
   },
   "outputs": [],
   "source": [
    "# Создаем начальный рандомный train\n",
    "# n_train = 100\n",
    "# create_random(n_train)\n",
    "# parse = Parse() \n",
    "# parse.get_target(list(range(n_train)))\n",
    "\n",
    "# Создаем test\n",
    "# n_test = 30000\n",
    "# create_random(n_test)\n",
    "# parse = Parse() \n",
    "# parse.get_target(list(range(n_test)))"
   ]
  },
  {
   "cell_type": "code",
   "execution_count": 108,
   "metadata": {
    "collapsed": true,
    "scrolled": true
   },
   "outputs": [],
   "source": [
    "%%time\n",
    "n_iter = 50\n",
    "for i in tqdm_notebook(range(n_iter), total=n_iter, mininterval=1):\n",
    "    n_unlabeled = 5000\n",
    "    create_random(n_unlabeled)\n",
    "    parse = Parse() \n",
    "    X_train, y_train = get_train()\n",
    "    X_train, y_train = eActive(X_train, y_train) # отберет 200 худших примеров из unlabeled\n",
    "    np.savetxt(path_unlabeled, [])\n",
    "    # save_files(loss, size)"
   ]
  },
  {
   "cell_type": "code",
   "execution_count": null,
   "metadata": {
    "collapsed": true
   },
   "outputs": [],
   "source": []
  },
  {
   "cell_type": "code",
   "execution_count": null,
   "metadata": {
    "collapsed": true
   },
   "outputs": [],
   "source": []
  },
  {
   "cell_type": "code",
   "execution_count": null,
   "metadata": {
    "collapsed": true
   },
   "outputs": [],
   "source": []
  },
  {
   "cell_type": "code",
   "execution_count": 39,
   "metadata": {
    "collapsed": true
   },
   "outputs": [],
   "source": [
    "def get_allTrain():\n",
    "    X_train = []\n",
    "    y_train = []\n",
    "    train_data = np.loadtxt('./data/train.txt')\n",
    "    if len(train_data) > 0:\n",
    "        X_train = train_data[:, 1:]\n",
    "        y_train = train_data[:, 0]\n",
    "\n",
    "    train_data = np.loadtxt('./data/labeled.txt')\n",
    "    if len(train_data) > 0:\n",
    "        X_train = np.concatenate(([X_train, train_data[:, 1:]]), axis=0)\n",
    "        y_train = np.concatenate(([y_train, train_data[:, 0]]), axis=0)\n",
    "        \n",
    "    train_data = np.loadtxt('./data/test.txt')\n",
    "    if len(train_data) > 0:\n",
    "        X_train = np.concatenate(([X_train, train_data[:, 1:]]), axis=0)\n",
    "        y_train = np.concatenate(([y_train, train_data[:, 0]]), axis=0)\n",
    "        \n",
    "    train_data = np.loadtxt('./data/valid.txt')\n",
    "    if len(train_data) > 0:\n",
    "        X_train = np.concatenate(([X_train, train_data[:, 1:]]), axis=0)\n",
    "        y_train = np.concatenate(([y_train, train_data[:, 0]]), axis=0)\n",
    "        \n",
    "    return X_train, y_train"
   ]
  },
  {
   "cell_type": "code",
   "execution_count": 40,
   "metadata": {
    "collapsed": true
   },
   "outputs": [],
   "source": [
    "X_train, y_train = get_allTrain()"
   ]
  },
  {
   "cell_type": "code",
   "execution_count": 86,
   "metadata": {},
   "outputs": [
    {
     "data": {
      "text/plain": [
       "(2000000, 10)"
      ]
     },
     "execution_count": 86,
     "metadata": {},
     "output_type": "execute_result"
    }
   ],
   "source": [
    "X_privat  = np.loadtxt('./privat/data')\n",
    "X_privat.shape"
   ]
  },
  {
   "cell_type": "code",
   "execution_count": 89,
   "metadata": {},
   "outputs": [
    {
     "name": "stdout",
     "output_type": "stream",
     "text": [
      "CPU times: user 12min, sys: 2.52 s, total: 12min 2s\n",
      "Wall time: 12min 6s\n"
     ]
    }
   ],
   "source": [
    "%%time\n",
    "model = XGBRegressor(n_estimators=1500, subsample=0.2, max_depth=4, learning_rate=0.1, nthread=-1)\n",
    "model.fit(X_train, y_train)\n",
    "y_privat = model.predict(X_privat)"
   ]
  },
  {
   "cell_type": "code",
   "execution_count": 92,
   "metadata": {
    "collapsed": true
   },
   "outputs": [],
   "source": [
    "df = pd.DataFrame({\"Id\": list(range(1, len(y_privat)+1)), \"Expected\": y_privat})\n",
    "df.to_csv('./predict.csv', sep=',', index=False)"
   ]
  },
  {
   "cell_type": "code",
   "execution_count": null,
   "metadata": {
    "collapsed": true
   },
   "outputs": [],
   "source": []
  },
  {
   "cell_type": "code",
   "execution_count": 18,
   "metadata": {},
   "outputs": [
    {
     "data": {
      "image/png": "[encoded data removed]",
      "text/plain": [
       "<matplotlib.figure.Figure at 0x111c75ef0>"
      ]
     },
     "metadata": {},
     "output_type": "display_data"
    }
   ],
   "source": [
    "plt.plot(train_size, loss)\n",
    "plt.show()"
   ]
  },
  {
   "cell_type": "code",
   "execution_count": null,
   "metadata": {
    "collapsed": true
   },
   "outputs": [],
   "source": []
  },
  {
   "cell_type": "code",
   "execution_count": null,
   "metadata": {
    "collapsed": true
   },
   "outputs": [],
   "source": []
  },
  {
   "cell_type": "code",
   "execution_count": null,
   "metadata": {
    "collapsed": true
   },
   "outputs": [],
   "source": []
  }
 ],
 "metadata": {
  "kernelspec": {
   "display_name": "Python 3",
   "language": "python",
   "name": "python3"
  },
  "language_info": {
   "codemirror_mode": {
    "name": "ipython",
    "version": 3
   },
   "file_extension": ".py",
   "mimetype": "text/x-python",
   "name": "python",
   "nbconvert_exporter": "python",
   "pygments_lexer": "ipython3",
   "version": "3.6.3"
  }
 },
 "nbformat": 4,
 "nbformat_minor": 2
}
