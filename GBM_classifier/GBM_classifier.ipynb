{
 "cells": [
  {
   "cell_type": "code",
   "execution_count": null,
   "metadata": {
    "collapsed": true
   },
   "outputs": [],
   "source": [
    "import numpy as np\n",
    "import pandas as pd\n",
    "import matplotlib.pyplot as plt\n",
    "from random import sample, seed\n",
    "from tqdm import tqdm_notebook\n",
    "from sklearn.datasets import load_boston, load_breast_cancer\n",
    "from sklearn.tree import DecisionTreeRegressor\n",
    "from sklearn.ensemble import GradientBoostingClassifier\n",
    "from sklearn.cross_validation import train_test_split\n",
    "from sklearn.metrics import accuracy_score, mean_squared_error"
   ]
  },
  {
   "cell_type": "code",
   "execution_count": 228,
   "metadata": {
    "collapsed": true
   },
   "outputs": [],
   "source": [
    "def load_spam():\n",
    "    train = np.loadtxt('dataset/spam.train.txt')\n",
    "    test  = np.loadtxt('dataset/spam.test.txt')\n",
    "    X_train = train[:, 1:]\n",
    "    y_train = train[:, 0].astype('int')\n",
    "    X_train, y_train = shuffle_data(X_train, y_train, seed=1)\n",
    "    X_test = test[:, 1:]\n",
    "    y_test = test[:, 0].astype('int')\n",
    "    X_test, y_test = shuffle_data(X_test, y_test, seed=1)\n",
    "    return X_train, X_test, y_train, y_test"
   ]
  },
  {
   "cell_type": "code",
   "execution_count": 209,
   "metadata": {
    "collapsed": true
   },
   "outputs": [],
   "source": [
    "def shuffle_data(X, y, seed=None):\n",
    "    if seed:\n",
    "        np.random.seed(seed)\n",
    "    idx = np.arange(X.shape[0])\n",
    "    np.random.shuffle(idx)\n",
    "    return X[idx], y[idx]\n",
    "\n",
    "def loss(y, p):\n",
    "    return np.mean(- y * np.log(p) - (1 - y) * np.log(1 - p))\n",
    "\n",
    "def plot_compare(sklearn_model, my_model, X_train, y_train, X_test, y_test):\n",
    "    if sklearn_model:\n",
    "        plt.figure(figsize=(15, 5))\n",
    "        sklearn_model_train = sklearn_model.train_score_\n",
    "        sklearn_model_test = [sklearn_model.loss_(y_test, y_pred) for y_pred in sklearn_model.staged_decision_function(X_test)]\n",
    "        plt.plot(range(len(sklearn_model_train)), sklearn_model_train, label='sklearn train')\n",
    "        plt.plot(range(len(sklearn_model_test)), sklearn_model_test, label='sklearn test')\n",
    "\n",
    "        # train_staged = [sklearn_model.loss_(y_train, y_pred) for y_pred in sklearn_model.staged_decision_function(X_train)]\n",
    "        # test_staged = [y_pred[:,1] for y_pred in sklearn_model.staged_predict_proba(X_test)]\n",
    "        # test_staged = [loss(y_test, y_pred)*2 for y_pred in test_staged]\n",
    "        # plt.plot(range(len(train_staged)), train_staged)\n",
    "        # plt.plot(range(len(test_staged)), test_staged)\n",
    "        \n",
    "        plus_three = sklearn_model_test[-1] * 1.03\n",
    "        print(\"Sklearn Loss: \", np.round(sklearn_model_test[-1], 3))\n",
    "        print(\"threshold 3%: \", np.round(plus_three, 3))\n",
    "        # plt.plot([0, len(sklearn_model_test)], [plus_three, plus_three])\n",
    "\n",
    "    if my_model:\n",
    "        my_model_train = [loss(y_train, y_pred)*2 for y_pred in my_model.train_pred_]\n",
    "        my_model_test = [loss(y_test, y_pred)*2 for y_pred in my_model.predict(X_test, all_trees=True)]\n",
    "        plt.plot(range(len(my_model_train)), my_model_train, label='my train')\n",
    "        plt.plot(range(len(my_model_test)), my_model_test, label='my test')\n",
    "        \n",
    "        print(\"My Loss: \", np.round(my_model_test[-1], 3))\n",
    "\n",
    "    plt.legend()\n",
    "    plt.xlabel(\"Count tree\")\n",
    "    plt.ylabel(\"Loss\")\n",
    "    plt.grid()\n",
    "    plt.show()"
   ]
  },
  {
   "cell_type": "markdown",
   "metadata": {},
   "source": [
    "### CART"
   ]
  },
  {
   "cell_type": "code",
   "execution_count": 210,
   "metadata": {
    "collapsed": true
   },
   "outputs": [],
   "source": [
    "class Node:\n",
    "    def __init__(self, left=None, right=None, column_idx=None, split_predicate=None):\n",
    "        self.left = left\n",
    "        self.right = right\n",
    "        self.column_idx = column_idx\n",
    "        self.split_predicate = split_predicate\n",
    "        self.is_leaf = False\n",
    "        self.samples_in_leaf = []\n",
    "        \n",
    "    def __str__(self):\n",
    "        return f\"column_idx: {self.column_idx}, split_predicate: {self.split_predicate}, answer: {np.mean(self.samples_in_leaf)}\"\n",
    "    \n",
    "class CART():\n",
    "    def __init__(self, max_depth=None, min_samples_leaf=1):\n",
    "        self.max_depth = max_depth\n",
    "        self.min_samples_leaf=min_samples_leaf\n",
    "        \n",
    "        self.cur_depth_ = 0\n",
    "        \n",
    "    def _variance(self, y):\n",
    "        return np.mean(np.power(y - y.mean(), 2))\n",
    "        \n",
    "    def _information_gain(self, X, y, i):\n",
    "        left_size = (i + 1) / len(X)\n",
    "        right_size = (len(X) - i - 1) / len(X)\n",
    "        return left_size * self._variance(y[:i+1]) + right_size * self._variance(y[i+1:])\n",
    "    \n",
    "    # Лучшее разбиение вершины\n",
    "    def _split_tree(self, X, y, information_gain):  \n",
    "        features_count = X.shape[1]\n",
    "        column_idx = None\n",
    "        split_predicate = None\n",
    "        \n",
    "        # Ищем такой признак и предикат при котором критерий информативности будет минимальный\n",
    "        for col in range(features_count):\n",
    "            Xy = np.array(sorted(np.hstack((X[:, col].reshape(-1, 1), y.reshape(-1, 1))), key=lambda x: x[0]))\n",
    "            X_cur = Xy[:, 0]\n",
    "            y_cur = Xy[:, -1]\n",
    "            \n",
    "            for i in range(len(X_cur) - 1):                \n",
    "                if X_cur[i] == X_cur[i + 1]: continue\n",
    "                information_gain_new = self._information_gain(X_cur, y_cur, i)\n",
    "                \n",
    "                if information_gain_new < information_gain:\n",
    "                    information_gain = information_gain_new\n",
    "                    split_predicate = X_cur[i]\n",
    "                    column_idx = col          \n",
    "        \n",
    "        # Делим на правую у левую ветку по предикату\n",
    "        df = pd.DataFrame(np.hstack((X, y.reshape(-1, 1))))\n",
    "        df_left = df[df[column_idx] <= split_predicate]\n",
    "        df_right = df[df[column_idx] > split_predicate]\n",
    "        \n",
    "        return column_idx, split_predicate, \\\n",
    "               df_left.iloc[:, :-1].values, df_left.iloc[:, -1].values, \\\n",
    "               df_right.iloc[:, :-1].values, df_right.iloc[:, -1].values\n",
    "            \n",
    "    # Построение дерева\n",
    "    def _build_tree(self, X, y, cur_depth):\n",
    "        root = Node()\n",
    "        \n",
    "        # Критерий информативности в текущей вершине\n",
    "        information_gain = self._variance(y)\n",
    "        \n",
    "        # Делаем вершину листом\n",
    "        if len(y) == self.min_samples_leaf or cur_depth == self.max_depth:\n",
    "            root.is_leaf = True\n",
    "            root.samples_in_leaf = y\n",
    "            return root\n",
    "        \n",
    "        cur_depth = cur_depth + 1\n",
    "        if cur_depth > self.cur_depth_:\n",
    "            self.cur_depth_ = cur_depth\n",
    "        \n",
    "        # Делим дальше\n",
    "        column_idx, split_predicate, X_left, y_left, X_right, y_right = self._split_tree(X, y, information_gain) \n",
    "        root.left = self._build_tree(X_left, y_left, cur_depth)\n",
    "        root.right = self._build_tree(X_right, y_right, cur_depth)\n",
    "        root.column_idx = column_idx\n",
    "        root.split_predicate = split_predicate\n",
    "            \n",
    "        return root\n",
    "    \n",
    "    def _get_answer(self, root, row):\n",
    "        if root.is_leaf:\n",
    "            return root.samples_in_leaf\n",
    "        root = root.left if row[root.column_idx] <= root.split_predicate else root.right\n",
    "        return self._get_answer(root, row)\n",
    "    \n",
    "    def predict(self, X, mean_leaf=True):\n",
    "        if mean_leaf:\n",
    "            return np.array([self._get_answer(self.root, row).mean() for row in X])\n",
    "        else:\n",
    "            return np.array([self._get_answer(self.root, row) for row in X])\n",
    "    \n",
    "    def fit(self, X, y):\n",
    "        self.root = self._build_tree(X, y, self.cur_depth_)\n",
    "        return self"
   ]
  },
  {
   "cell_type": "code",
   "execution_count": 211,
   "metadata": {
    "collapsed": true
   },
   "outputs": [],
   "source": [
    "X = load_boston().data\n",
    "y = load_boston().target\n",
    "X_train, X_test, y_train, y_test = train_test_split(X, y, test_size=0.3, random_state=17)\n",
    "depth = 2"
   ]
  },
  {
   "cell_type": "code",
   "execution_count": 212,
   "metadata": {
    "scrolled": true
   },
   "outputs": [
    {
     "name": "stdout",
     "output_type": "stream",
     "text": [
      "my_tree 27.520300327953436\n",
      "CPU times: user 227 ms, sys: 5.47 ms, total: 233 ms\n",
      "Wall time: 234 ms\n"
     ]
    }
   ],
   "source": [
    "%%time\n",
    "my_tree = CART(max_depth=depth).fit(X_train, y_train)\n",
    "y_pred_my = my_tree.predict(X_test)\n",
    "print(\"my_tree\", mean_squared_error(y_test, y_pred_my))"
   ]
  },
  {
   "cell_type": "code",
   "execution_count": 213,
   "metadata": {},
   "outputs": [
    {
     "name": "stdout",
     "output_type": "stream",
     "text": [
      "proper_tree 27.52030032795343\n",
      "CPU times: user 2.04 ms, sys: 1.97 ms, total: 4.01 ms\n",
      "Wall time: 2.41 ms\n"
     ]
    }
   ],
   "source": [
    "%%time\n",
    "proper_tree = DecisionTreeRegressor(max_depth=depth, random_state=0).fit(X_train, y_train)\n",
    "y_pred = proper_tree.predict(X_test)\n",
    "print(\"proper_tree\", mean_squared_error(y_test, y_pred))"
   ]
  },
  {
   "cell_type": "markdown",
   "metadata": {},
   "source": [
    "### GradientBoostingClassifier"
   ]
  },
  {
   "cell_type": "code",
   "execution_count": 214,
   "metadata": {
    "collapsed": true
   },
   "outputs": [],
   "source": [
    "class GradientBoosting():\n",
    "    def __init__(self, n_estimators=100, learning_rate=0.1, max_depth=2, f_interaction=False):\n",
    "        self.n_estimators = n_estimators\n",
    "        self.learning_rate = learning_rate\n",
    "        self.max_depth = max_depth\n",
    "        self.f_interaction = f_interaction\n",
    "        \n",
    "        self.base_algorithms = []\n",
    "        self.weights = []\n",
    "        self.y_pred = None\n",
    "        self.cur_depth_ = 1 if self.f_interaction else self.max_depth\n",
    "        self.train_pred_ = []\n",
    "        \n",
    "    def _sigmoid(self, h):\n",
    "        return 1 / (1 + np.exp(-h))\n",
    "    \n",
    "    def _get_class(self, p):\n",
    "        return np.where(p < 0.5, 0, 1)\n",
    "        \n",
    "    def _loss(self, y, p):\n",
    "        return np.mean(- y * np.log(p) - (1 - y) * np.log(1 - p))\n",
    "\n",
    "    def _gradient(self, y, y_pred):\n",
    "        # - y*log(sigma(x)) - (1-y)*log(1-sigma(x))\n",
    "        # sigma(x)' = sigma(x) * (1 - sigma(x))\n",
    "        # dL/dx = - y*sigma*(1-sigma)/sigma + (1-y)(1-sigma)/sigma*(1-sigma) = sigma(x) - y\n",
    "        return self._sigmoid(y_pred) - y\n",
    "    \n",
    "    def _newton(self, y, a, h):\n",
    "        # sigma(x) = 1 / (1 + exp(-(h+b*a)))\n",
    "        # dx/db = (h+b*a)' = a\n",
    "        # f = dL/db = a * (sigma(x) - y)\n",
    "        # f' = (a * (sigma(x) - y))' = a * sigma(x)' * (h+b*a)' = a * sigma*(1-sigma) * a = a^2 * sigma*(1-sigma)\n",
    "        b = 0\n",
    "        while True:\n",
    "            z = h + b * a\n",
    "            f = np.sum(a * (self._sigmoid(z) - y))\n",
    "            dfdb = np.sum(np.power(a, 2) * self._sigmoid(z) * (1 - self._sigmoid(z)))\n",
    "            b = b - f / dfdb\n",
    "            if np.abs(f) < 0.0005: break\n",
    "        return b\n",
    "    \n",
    "    def predict(self, X, all_trees=False):\n",
    "        predicts = []\n",
    "        predict = np.zeros(len(X))\n",
    "        for i, base_algorithms in enumerate(self.base_algorithms):\n",
    "            predict = predict + self.learning_rate * base_algorithms.predict(X) * self.weights[i]\n",
    "            predicts.append(self._sigmoid(predict))\n",
    "        if all_trees:\n",
    "            return predicts\n",
    "        else:\n",
    "            return self._get_class(predicts[-1])\n",
    "    \n",
    "    def fit(self, X, y):\n",
    "        self.y_pred = np.zeros(len(y))\n",
    "\n",
    "        for i in tqdm_notebook(range(self.n_estimators), total=self.n_estimators, mininterval=1):             \n",
    "            gradient = - self._gradient(y, self.y_pred)\n",
    "\n",
    "            tree = CART(max_depth=self.cur_depth_).fit(X, gradient)\n",
    "            # tree = DecisionTreeRegressor(max_depth=self.cur_depth_, random_state=17).fit(X, gradient)\n",
    "            self.base_algorithms.append(tree)\n",
    "            y_pred = tree.predict(X)\n",
    "            \n",
    "            weights = self._newton(y, y_pred, self.y_pred)\n",
    "            self.weights.append(weights)\n",
    "            \n",
    "            self.y_pred = self.y_pred + self.learning_rate * y_pred * weights\n",
    "            self.train_pred_.append(self._sigmoid(self.y_pred))\n",
    "            \n",
    "#             if self.f_interaction and i > 1:\n",
    "#                 if self._loss(y, self.train_pred_[-1]) == self._loss(y, self.train_pred_[-2]):\n",
    "#                     if self.cur_depth_ < self.max_depth:\n",
    "#                         self.cur_depth_ += 1\n",
    "        \n",
    "        return self"
   ]
  },
  {
   "cell_type": "code",
   "execution_count": 227,
   "metadata": {},
   "outputs": [
    {
     "data": {
      "application/vnd.jupyter.widget-view+json": {
       "model_id": "dd98f079fc6e4e08a8cf82d9690387e1",
       "version_major": 2,
       "version_minor": 0
      },
      "text/plain": [
       "A Jupyter Widget"
      ]
     },
     "metadata": {},
     "output_type": "display_data"
    },
    {
     "name": "stdout",
     "output_type": "stream",
     "text": [
      "Sklearn Loss:  0.262\n",
      "threshold 3%:  0.27\n",
      "My Loss:  0.302\n"
     ]
    },
    {
     "data": {
      "image/png": "[encoded data removed]",
      "text/plain": [
       "<matplotlib.figure.Figure at 0x11bb80dd8>"
      ]
     },
     "metadata": {},
     "output_type": "display_data"
    },
    {
     "name": "stdout",
     "output_type": "stream",
     "text": [
      "CPU times: user 10h 5min 15s, sys: 2min 57s, total: 10h 8min 12s\n",
      "Wall time: 10h 18min 45s\n"
     ]
    }
   ],
   "source": [
    "%%time\n",
    "# Мой бустинг и мое дерево\n",
    "X_train, X_test, y_train, y_test = load_spam()\n",
    "\n",
    "n = 800\n",
    "lr = 0.2\n",
    "depth = 1\n",
    "\n",
    "clrBoost = GradientBoostingClassifier(n_estimators=n, learning_rate=lr, max_depth=depth, random_state=17)\n",
    "clrBoost.fit(X_train, y_train)\n",
    "\n",
    "clrBoost_my = GradientBoosting(n_estimators=n, learning_rate=lr, max_depth=depth)\n",
    "clrBoost_my.fit(X_train, y_train)\n",
    "\n",
    "plot_compare(clrBoost, clrBoost_my, X_train, y_train, X_test, y_test)"
   ]
  },
  {
   "cell_type": "code",
   "execution_count": null,
   "metadata": {
    "collapsed": true
   },
   "outputs": [],
   "source": []
  },
  {
   "cell_type": "code",
   "execution_count": 222,
   "metadata": {},
   "outputs": [
    {
     "data": {
      "application/vnd.jupyter.widget-view+json": {
       "model_id": "1204119f316742f8bc36bf3745f9cc39",
       "version_major": 2,
       "version_minor": 0
      },
      "text/plain": [
       "A Jupyter Widget"
      ]
     },
     "metadata": {},
     "output_type": "display_data"
    },
    {
     "name": "stdout",
     "output_type": "stream",
     "text": [
      "Sklearn Loss:  0.199\n",
      "threshold 3%:  0.205\n",
      "My Loss:  0.201\n"
     ]
    },
    {
     "data": {
      "image/png": "[encoded data removed]",
      "text/plain": [
       "<matplotlib.figure.Figure at 0x11db53a90>"
      ]
     },
     "metadata": {},
     "output_type": "display_data"
    },
    {
     "name": "stdout",
     "output_type": "stream",
     "text": [
      "CPU times: user 54.3 s, sys: 970 ms, total: 55.3 s\n",
      "Wall time: 57.4 s\n"
     ]
    }
   ],
   "source": [
    "%%time\n",
    "# Мой бустинг и дерево sklearn\n",
    "X = load_breast_cancer().data\n",
    "y = load_breast_cancer().target\n",
    "X_train, X_test, y_train, y_test = train_test_split(X, y, test_size=0.3, random_state=17)\n",
    "\n",
    "n = 100\n",
    "lr = 0.2\n",
    "depth = 1\n",
    "\n",
    "clrBoost = GradientBoostingClassifier(n_estimators=n, learning_rate=lr, max_depth=depth, random_state=17)\n",
    "clrBoost.fit(X_train, y_train)\n",
    "\n",
    "clrBoost_my = GradientBoosting(n_estimators=n, learning_rate=lr, max_depth=depth)\n",
    "clrBoost_my.fit(X_train, y_train)\n",
    "\n",
    "plot_compare(clrBoost, clrBoost_my, X_train, y_train, X_test, y_test)"
   ]
  },
  {
   "cell_type": "code",
   "execution_count": null,
   "metadata": {
    "collapsed": true
   },
   "outputs": [],
   "source": []
  }
 ],
 "metadata": {
  "kernelspec": {
   "display_name": "Python 3",
   "language": "python",
   "name": "python3"
  },
  "language_info": {
   "codemirror_mode": {
    "name": "ipython",
    "version": 3
   },
   "file_extension": ".py",
   "mimetype": "text/x-python",
   "name": "python",
   "nbconvert_exporter": "python",
   "pygments_lexer": "ipython3",
   "version": "3.6.3"
  },
  "varInspector": {
   "cols": {
    "lenName": 16,
    "lenType": 16,
    "lenVar": 40
   },
   "kernels_config": {
    "python": {
     "delete_cmd_postfix": "",
     "delete_cmd_prefix": "del ",
     "library": "var_list.py",
     "varRefreshCmd": "print(var_dic_list())"
    },
    "r": {
     "delete_cmd_postfix": ") ",
     "delete_cmd_prefix": "rm(",
     "library": "var_list.r",
     "varRefreshCmd": "cat(var_dic_list()) "
    }
   },
   "types_to_exclude": [
    "module",
    "function",
    "builtin_function_or_method",
    "instance",
    "_Feature"
   ],
   "window_display": false
  }
 },
 "nbformat": 4,
 "nbformat_minor": 2
}
