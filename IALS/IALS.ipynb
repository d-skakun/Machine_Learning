{
 "cells": [
  {
   "cell_type": "code",
   "execution_count": 2,
   "metadata": {},
   "outputs": [],
   "source": [
    "import numpy as np \n",
    "import pandas as pd\n",
    "from sklearn.metrics import mean_squared_error\n",
    "from sklearn.linear_model import Ridge\n",
    "from sklearn.preprocessing import OneHotEncoder\n",
    "from sklearn.cross_validation import train_test_split\n",
    "import scipy.sparse as sparse\n",
    "\n",
    "RANDOM_STATE = 17"
   ]
  },
  {
   "cell_type": "markdown",
   "metadata": {},
   "source": [
    "### Utils"
   ]
  },
  {
   "cell_type": "code",
   "execution_count": 12,
   "metadata": {
    "collapsed": true
   },
   "outputs": [],
   "source": [
    "def submit(data, name):\n",
    "    pred = pd.DataFrame({'Id': range(1, len(data)+1), 'Score': data})\n",
    "    pred.to_csv(name, index=False)\n",
    "    \n",
    "def shuffle_data(X, y, seed=None):\n",
    "    if seed:\n",
    "        np.random.seed(seed)\n",
    "    idx = np.arange(X.shape[0])\n",
    "    np.random.shuffle(idx)\n",
    "    return X[idx], y[idx]\n",
    "\n",
    "def set_scope(y_pred):\n",
    "    y_pred[y_pred > 5] = 5\n",
    "    y_pred[y_pred < 1] = 1\n",
    "    return y_pred\n",
    "\n",
    "def train_split(user_item, test_size=0.3, random_state=None):\n",
    "    X_train = np.zeros(user_item.shape)\n",
    "    X_test = np.zeros(user_item.shape)\n",
    "    if random_state is not None:\n",
    "        np.random.seed(random_state)\n",
    "        \n",
    "    has_score = np.argwhere(user_item > 0)\n",
    "    \n",
    "    # Перемешиваем и делим\n",
    "    np.random.shuffle(has_score)\n",
    "    split = int(len(has_score) * test_size)\n",
    "    test = has_score[: split]\n",
    "    train = has_score[split :]\n",
    "    \n",
    "    # Собираем значения train матрицы\n",
    "    for i, idx in enumerate(train):\n",
    "        X_train[idx[0], idx[1]] = user_item[idx[0], idx[1]]\n",
    "    \n",
    "    # Собираем значения test матрицы\n",
    "    for i, idx in enumerate(test):\n",
    "        X_test[idx[0], idx[1]] = user_item[idx[0], idx[1]]\n",
    "        \n",
    "    return X_train, X_test\n",
    "\n",
    "def liner_regression(X_train, y_train, X_test):\n",
    "    encoder = OneHotEncoder(handle_unknown='ignore').fit(X_train)\n",
    "    X_train_tr = encoder.transform(X_train)\n",
    "    X_test_tr = encoder.transform(X_test)\n",
    "    \n",
    "    clf = Ridge(alpha=3, random_state=RANDOM_STATE)\n",
    "    clf.fit(X_train_tr, y_train)\n",
    "    y_pred = clf.predict(X_test_tr)\n",
    "    return y_pred"
   ]
  },
  {
   "cell_type": "code",
   "execution_count": 4,
   "metadata": {
    "collapsed": true
   },
   "outputs": [],
   "source": [
    "train = pd.read_csv('./data/train.txt', names=['user', 'item', 'score'], sep='\\t')\n",
    "test = pd.read_csv('./data/test.txt', names=['user', 'item'], sep='\\t')"
   ]
  },
  {
   "cell_type": "code",
   "execution_count": 5,
   "metadata": {
    "scrolled": true
   },
   "outputs": [
    {
     "data": {
      "text/html": [
       "<div>\n",
       "<style scoped>\n",
       "    .dataframe tbody tr th:only-of-type {\n",
       "        vertical-align: middle;\n",
       "    }\n",
       "\n",
       "    .dataframe tbody tr th {\n",
       "        vertical-align: top;\n",
       "    }\n",
       "\n",
       "    .dataframe thead th {\n",
       "        text-align: right;\n",
       "    }\n",
       "</style>\n",
       "<table border=\"1\" class=\"dataframe\">\n",
       "  <thead>\n",
       "    <tr style=\"text-align: right;\">\n",
       "      <th></th>\n",
       "      <th>user</th>\n",
       "      <th>item</th>\n",
       "      <th>score</th>\n",
       "    </tr>\n",
       "  </thead>\n",
       "  <tbody>\n",
       "    <tr>\n",
       "      <th>0</th>\n",
       "      <td>1</td>\n",
       "      <td>1</td>\n",
       "      <td>5</td>\n",
       "    </tr>\n",
       "    <tr>\n",
       "      <th>1</th>\n",
       "      <td>1</td>\n",
       "      <td>2</td>\n",
       "      <td>3</td>\n",
       "    </tr>\n",
       "    <tr>\n",
       "      <th>2</th>\n",
       "      <td>1</td>\n",
       "      <td>3</td>\n",
       "      <td>4</td>\n",
       "    </tr>\n",
       "    <tr>\n",
       "      <th>3</th>\n",
       "      <td>1</td>\n",
       "      <td>4</td>\n",
       "      <td>3</td>\n",
       "    </tr>\n",
       "    <tr>\n",
       "      <th>4</th>\n",
       "      <td>1</td>\n",
       "      <td>5</td>\n",
       "      <td>3</td>\n",
       "    </tr>\n",
       "  </tbody>\n",
       "</table>\n",
       "</div>"
      ],
      "text/plain": [
       "   user  item  score\n",
       "0     1     1      5\n",
       "1     1     2      3\n",
       "2     1     3      4\n",
       "3     1     4      3\n",
       "4     1     5      3"
      ]
     },
     "execution_count": 5,
     "metadata": {},
     "output_type": "execute_result"
    }
   ],
   "source": [
    "train.head()"
   ]
  },
  {
   "cell_type": "code",
   "execution_count": 6,
   "metadata": {},
   "outputs": [
    {
     "data": {
      "text/plain": [
       "array([[5., 3., 4., ..., 0., 0., 0.],\n",
       "       [4., 0., 0., ..., 0., 0., 0.],\n",
       "       [0., 0., 0., ..., 0., 0., 0.],\n",
       "       ...,\n",
       "       [5., 0., 0., ..., 0., 0., 0.],\n",
       "       [0., 0., 0., ..., 0., 0., 0.],\n",
       "       [0., 5., 0., ..., 0., 0., 0.]])"
      ]
     },
     "execution_count": 6,
     "metadata": {},
     "output_type": "execute_result"
    }
   ],
   "source": [
    "martix_train = train.pivot_table(columns='item', index='user', values='score').fillna(0).values\n",
    "martix_train"
   ]
  },
  {
   "cell_type": "markdown",
   "metadata": {},
   "source": [
    "### IALS"
   ]
  },
  {
   "cell_type": "markdown",
   "metadata": {},
   "source": [
    "public MSE 0.90865"
   ]
  },
  {
   "cell_type": "code",
   "execution_count": 7,
   "metadata": {
    "collapsed": true
   },
   "outputs": [],
   "source": [
    "# https://www.researchgate.net/publication/220788980_Large-Scale_Parallel_Collaborative_Filtering_for_the_Netflix_Prize\n",
    "# https://datajobs.com/data-science-repo/Recommender-Systems-[Netflix].pdf\n",
    "# http://yifanhu.net/PUB/cf.pdf\n",
    "# https://www.cs.rochester.edu/twiki/pub/Main/HarpSeminar/Factorization_Meets_the_Neighborhood-_a_Multifaceted_Collaborative_Filtering_Model.pdf\n",
    "# https://medium.com/radon-dev/als-implicit-collaborative-filtering-5ed653ba39fe\n",
    "# http://activisiongamescience.github.io/2016/01/11/Implicit-Recommender-Systems-Biased-Matrix-Factorization/\n",
    "# https://arxiv.org/pdf/1809.00979.pdf\n",
    "# https://www.ethanrosenthal.com/2016/01/09/explicit-matrix-factorization-sgd-als/"
   ]
  },
  {
   "cell_type": "code",
   "execution_count": 8,
   "metadata": {
    "collapsed": true
   },
   "outputs": [],
   "source": [
    "class MY_IALS:\n",
    "    def __init__(self, iterations=10, latent_features=5, alpha=25, lambda_reg=8, verbose=1):\n",
    "        self.iterations = iterations\n",
    "        self.latent_features = latent_features\n",
    "        self.alpha = alpha\n",
    "        self.lambda_reg = lambda_reg\n",
    "        self.verbose = verbose\n",
    "        np.random.seed(17)\n",
    "        \n",
    "    def fit(self, train, test=None):\n",
    "        # Количество всех юзеров и фильмов\n",
    "        user_size, item_size = train.shape\n",
    "    \n",
    "        # 1) Инициалтзируем неизвестные пары в train\n",
    "        real_score = train > 0\n",
    "        init_score = train == 0\n",
    "        # Берем среднее от всех не нулевых значений\n",
    "        # mean_score = train[real_score].mean()\n",
    "        # matrix_full = train + init_score * mean_score\n",
    "        # В качестве инициализации берем предсказание Ridge регрессии\n",
    "        has_score = np.argwhere(real_score == True)\n",
    "        need_init = np.argwhere(init_score == True)\n",
    "        has_init = liner_regression(has_score, train[real_score], need_init)\n",
    "        matrix_init = init_score * 1.\n",
    "        for i, idx in enumerate(need_init):\n",
    "            matrix_init[idx[0]][idx[1]] = has_init[i]\n",
    "        matrix_full = train + matrix_init\n",
    "        \n",
    "        # 2) Считаем уверенность C = 1 + alpha * train\n",
    "        # Для всех реальных рейтингов которые были поставлены пользователями (а не инициализированные) будет высокая уверенность\n",
    "        # C = np.ones(train.shape) + self.alpha * train\n",
    "        C = np.ones(train.shape) + self.alpha * np.log(np.ones(train.shape) + train / 0.1)\n",
    "        C_I = C - 1\n",
    "        \n",
    "        # 3) Считаем Lambda * I которое одинаково для обоих шагов\n",
    "        lambda_I = self.lambda_reg * sparse.eye(self.latent_features + 1)\n",
    "        \n",
    "        # 4) Создаем две матрицы со случайными числами на которые будем раскладывать user x item    \n",
    "        # user u x f\n",
    "        X = np.hstack([np.ones((user_size, 1)), np.random.normal(size=(user_size, self.latent_features))])\n",
    "        # item i x f\n",
    "        Y = np.hstack([np.ones((item_size, 1)), np.random.normal(size=(item_size, self.latent_features))])\n",
    "        \n",
    "        # 5) Смещение W0\n",
    "        X_bias = np.array([0] * user_size)\n",
    "        Y_bias = np.array([0] * item_size)\n",
    "        \n",
    "        # Каждому юзеру или фильму присвоим свое значение регуляризации в зависимости от того как много у них оценок\n",
    "        n_user = (train > 0).sum(1) # сумма рейтингов каждого юзера (по строкам)\n",
    "        n_item = (train > 0).sum(0) # сумма рейтингов кажого фильма (по столбцам)\n",
    "        \n",
    "        for iteration in range(self.iterations):            \n",
    "            # Шаг user - по строкам\n",
    "            yTy = np.dot(Y.T, Y)\n",
    "            Cu = C * (matrix_full - Y_bias)\n",
    "            for u in range(user_size):\n",
    "                # X = ((Y.T*Y + Y.T*(C - I) * Y) + lambda*I)^-1 * (Y.T * Cu)\n",
    "                inv = np.linalg.inv(yTy + np.dot(Y.T * C_I[u], Y) + lambda_I * n_user[u])\n",
    "                X[u] = np.dot(np.dot(inv, Y.T), Cu[u].reshape(-1, 1)).ravel()\n",
    "            X_bias = X[:, 0].copy().reshape(-1, 1)\n",
    "            X[:, 0] = 1\n",
    "                \n",
    "            # Шаг item - по столбцам\n",
    "            xTx = np.dot(X.T, X)\n",
    "            Ci = C * (matrix_full - X_bias)\n",
    "            for i in range(item_size):\n",
    "                # Y = ((X.T*X + X.T*(C - I) * X) + lambda*I)^-1 * (X.T * Ci)\n",
    "                inv = np.linalg.inv(xTx + np.dot(X.T * C_I[:, i], X) + lambda_I * n_item[i])\n",
    "                Y[i] = np.dot(np.dot(inv, X.T), Ci[:, i].reshape(-1, 1)).ravel()\n",
    "            Y_bias = Y[:, 0].copy().ravel()\n",
    "            Y[:, 0] = 1\n",
    "            \n",
    "            result = np.dot(X[:, 1:], Y[:, 1:].T) + X_bias + Y_bias\n",
    "            result = set_scope(result)\n",
    "            \n",
    "            if test is not None and self.verbose == 1:\n",
    "                mse = np.sqrt(((result * (test > 0) - test) ** 2).sum() / (test > 0).sum())\n",
    "                print(str(iteration) + \" - \" + str(mse))\n",
    "        \n",
    "        return result"
   ]
  },
  {
   "cell_type": "code",
   "execution_count": 10,
   "metadata": {},
   "outputs": [
    {
     "name": "stdout",
     "output_type": "stream",
     "text": [
      "0 - 0.9483852905567737\n",
      "1 - 0.9283910516008547\n",
      "2 - 0.9168814917902718\n",
      "3 - 0.9116646082299161\n",
      "4 - 0.9083196920470347\n",
      "5 - 0.9059969043931989\n",
      "6 - 0.9043352800160034\n",
      "7 - 0.9031268241132095\n",
      "8 - 0.9022903926008039\n",
      "9 - 0.9017922983483267\n"
     ]
    }
   ],
   "source": [
    "X_train, X_test = train_split(martix_train, test_size = 0.1, random_state=RANDOM_STATE)\n",
    "result = MY_IALS().fit(X_train, X_test)"
   ]
  },
  {
   "cell_type": "code",
   "execution_count": 11,
   "metadata": {
    "collapsed": true
   },
   "outputs": [],
   "source": [
    "result = MY_IALS().fit(martix_train)"
   ]
  },
  {
   "cell_type": "code",
   "execution_count": 12,
   "metadata": {
    "collapsed": true
   },
   "outputs": [],
   "source": [
    "y_test_pred = []\n",
    "for i, idx in enumerate(test.values):\n",
    "    y_test_pred.append(result[idx[0]-1][idx[1]-1])\n",
    "    \n",
    "submit(y_test_pred, 'predict5.txt')"
   ]
  },
  {
   "cell_type": "markdown",
   "metadata": {
    "collapsed": true
   },
   "source": [
    "### Liner Regression"
   ]
  },
  {
   "cell_type": "markdown",
   "metadata": {},
   "source": [
    "public MSE 0.94785"
   ]
  },
  {
   "cell_type": "code",
   "execution_count": 8,
   "metadata": {
    "collapsed": true
   },
   "outputs": [],
   "source": [
    "train_df = train.copy()\n",
    "X = train_df.values[:, :2]\n",
    "y = train_df.values[:, 2]\n",
    "X_all, y_all = shuffle_data(X, y, RANDOM_STATE)"
   ]
  },
  {
   "cell_type": "code",
   "execution_count": 13,
   "metadata": {},
   "outputs": [
    {
     "data": {
      "text/plain": [
       "0.8816631217520343"
      ]
     },
     "execution_count": 13,
     "metadata": {},
     "output_type": "execute_result"
    }
   ],
   "source": [
    "X_train, X_valid, y_train, y_valid = train_test_split(X_all, y_all, test_size=0.3, random_state=RANDOM_STATE)\n",
    "y_valid_pred = liner_regression(X_train, y_train, X_valid)\n",
    "mean_squared_error(y_valid_pred, y_valid)"
   ]
  },
  {
   "cell_type": "code",
   "execution_count": 15,
   "metadata": {},
   "outputs": [
    {
     "data": {
      "text/plain": [
       "2.3253744801442715"
      ]
     },
     "execution_count": 15,
     "metadata": {},
     "output_type": "execute_result"
    }
   ],
   "source": [
    "y_pred_mean = [2.5] * y_valid.shape[0]\n",
    "mean_squared_error(y_pred_mean, y_valid)"
   ]
  },
  {
   "cell_type": "code",
   "execution_count": 16,
   "metadata": {
    "collapsed": true
   },
   "outputs": [],
   "source": [
    "# test\n",
    "y_test_pred = liner_regression(X_all, y_all, test.values)\n",
    "y_test_pred = set_scope(y_test_pred)"
   ]
  },
  {
   "cell_type": "code",
   "execution_count": 15,
   "metadata": {
    "collapsed": true
   },
   "outputs": [],
   "source": [
    "submit(y_test_pred, 'predict1.txt')"
   ]
  },
  {
   "cell_type": "markdown",
   "metadata": {},
   "source": [
    "### Fastfm"
   ]
  },
  {
   "cell_type": "markdown",
   "metadata": {},
   "source": [
    "public MSE 0.91155"
   ]
  },
  {
   "cell_type": "code",
   "execution_count": 15,
   "metadata": {
    "collapsed": true
   },
   "outputs": [],
   "source": [
    "from fastFM.mcmc import FMRegression"
   ]
  },
  {
   "cell_type": "code",
   "execution_count": 17,
   "metadata": {
    "collapsed": true
   },
   "outputs": [],
   "source": [
    "clf_fm = FMRegression(rank=3, n_iter=1000, random_state=RANDOM_STATE)\n",
    "y_valid_pred_fm = clf_fm.fit_predict(X_train_tr, y_train, X_valid_tr)"
   ]
  },
  {
   "cell_type": "code",
   "execution_count": 18,
   "metadata": {},
   "outputs": [
    {
     "data": {
      "text/plain": [
       "0.8212921715442131"
      ]
     },
     "execution_count": 18,
     "metadata": {},
     "output_type": "execute_result"
    }
   ],
   "source": [
    "mean_squared_error(y_valid_pred_fm, y_valid)"
   ]
  },
  {
   "cell_type": "code",
   "execution_count": 27,
   "metadata": {
    "collapsed": true
   },
   "outputs": [],
   "source": [
    "# test\n",
    "clf_fm = FMRegression(rank=3, n_iter=1000, random_state=RANDOM_STATE)\n",
    "y_valid_pred_fm = clf_fm.fit_predict(X_all_tr, y_all, X_test_tr)\n",
    "y_valid_pred_fm = set_scope(y_valid_pred_fm)"
   ]
  },
  {
   "cell_type": "code",
   "execution_count": 28,
   "metadata": {
    "collapsed": true
   },
   "outputs": [],
   "source": [
    "submit(y_valid_pred_fm, 'predict2.txt')"
   ]
  },
  {
   "cell_type": "code",
   "execution_count": null,
   "metadata": {
    "collapsed": true
   },
   "outputs": [],
   "source": []
  }
 ],
 "metadata": {
  "kernelspec": {
   "display_name": "Python 3",
   "language": "python",
   "name": "python3"
  },
  "language_info": {
   "codemirror_mode": {
    "name": "ipython",
    "version": 3
   },
   "file_extension": ".py",
   "mimetype": "text/x-python",
   "name": "python",
   "nbconvert_exporter": "python",
   "pygments_lexer": "ipython3",
   "version": "3.6.3"
  }
 },
 "nbformat": 4,
 "nbformat_minor": 2
}
