{
 "cells": [
  {
   "cell_type": "code",
   "execution_count": 35,
   "metadata": {
    "collapsed": true
   },
   "outputs": [],
   "source": [
    "import pandas as pd\n",
    "import numpy as np\n",
    "import os\n",
    "import math\n",
    "from tqdm import tqdm_notebook\n",
    "import itertools\n",
    "from time import time\n",
    "from sklearn.metrics import log_loss"
   ]
  },
  {
   "cell_type": "code",
   "execution_count": 36,
   "metadata": {
    "collapsed": true
   },
   "outputs": [],
   "source": [
    "PATH = './data'"
   ]
  },
  {
   "cell_type": "code",
   "execution_count": 37,
   "metadata": {},
   "outputs": [
    {
     "name": "stdout",
     "output_type": "stream",
     "text": [
      "timestamp;label;C1;C2;C3;C4;C5;C6;C7;C8;C9;C10;CG1;CG2;CG3;l1;l2;C11;C12\r\n",
      "1379278800;0;2733540231;3500392421;4454;15573;11;995;2;176;15;671;384,382,96,88,185,49,385,268,448,438,279,420,124,123,5,3,17,133,71,409,330,59,57,302,304,395,275,151,113,99,154,155,76,412,139,333,332,335,334,399;;;32;0;0;106\r\n"
     ]
    }
   ],
   "source": [
    "!head -2 $PATH/train.csv"
   ]
  },
  {
   "cell_type": "markdown",
   "metadata": {},
   "source": [
    "C1-12 - categorial features; \n",
    "l1-2 - counters; \n",
    "CG1-3 - groups of categorial features;"
   ]
  },
  {
   "cell_type": "markdown",
   "metadata": {},
   "source": [
    "label - click or not click 1/0"
   ]
  },
  {
   "cell_type": "code",
   "execution_count": 4,
   "metadata": {},
   "outputs": [
    {
     "name": "stdout",
     "output_type": "stream",
     "text": [
      " 29989753 ./data/train.csv\r\n"
     ]
    }
   ],
   "source": [
    "!wc -l $PATH/train.csv"
   ]
  },
  {
   "cell_type": "code",
   "execution_count": 5,
   "metadata": {},
   "outputs": [
    {
     "name": "stdout",
     "output_type": "stream",
     "text": [
      " 20317221 ./data/test.csv\r\n"
     ]
    }
   ],
   "source": [
    "!wc -l $PATH/test.csv"
   ]
  },
  {
   "cell_type": "code",
   "execution_count": 125,
   "metadata": {
    "collapsed": true
   },
   "outputs": [],
   "source": [
    "train_data = os.path.join(PATH, 'train.csv')\n",
    "train_len =  29989753-1\n",
    "test_data = os.path.join(PATH, 'test.csv')\n",
    "test_len = 20317221-1"
   ]
  },
  {
   "cell_type": "code",
   "execution_count": 127,
   "metadata": {
    "collapsed": true
   },
   "outputs": [],
   "source": [
    "def preprocess(file_in, file_out, file_len, test=False):\n",
    "    with open(file_out, 'w') as f_w:\n",
    "        with open(file_in, 'r') as f_r: \n",
    "            f_r.readline()\n",
    "            for line in tqdm_notebook(f_r, total=file_len, mininterval=1):\n",
    "                \n",
    "                features = line.strip().split(';')\n",
    "        \n",
    "                # Label\n",
    "                if test:\n",
    "                    vw_line = str(features[1])\n",
    "                else:\n",
    "                    vw_line = \"-1\" if features[1] == \"0\" else str(features[1])\n",
    "                    \n",
    "                # Категориальные фичи 2, 3, 4, 5, 6, 7, 8, 9, 10, 11, 17, 18\n",
    "                # 2, 3, 4, 5, 7 - много уник знач, 6, 9, 10, 11 - средне уник знач, 8 - 0/1/2, 17 - bin, 18 - мало уник знач\n",
    "                # vw_line += \" |cat\"\n",
    "                for i, feature in enumerate(features[2:12] + features[17:19]):\n",
    "                    if len(feature) != 0:\n",
    "                        vw_line += \" |c{0} C{0}_{1}\".format(i+1, feature)\n",
    "                    else:\n",
    "                        # Для тех категорий у которых нет значения создаем отдельную колонку в ohe представление\n",
    "                        vw_line += \" |c{0} C{0}_N\".format(i+1)\n",
    "                        \n",
    "                # Счетчики 15, 16\n",
    "                vw_line += \" |i\"\n",
    "                if len(features[15]) != 0:\n",
    "                    f15 = int(features[15])\n",
    "                    log1 = np.log(f15 + 1)\n",
    "                    vw_line += \" l1:{}\".format(str(log1))\n",
    "                    \n",
    "                if len(features[16]) != 0:\n",
    "                    f16 = int(features[16])\n",
    "                    log1 = np.log(f16 + 1)\n",
    "                    vw_line += \" l2:{}\".format(str(log1))\n",
    "                \n",
    "                # Группы 12, 13, 14\n",
    "                for i, feature in enumerate(features[12:15]):\n",
    "                    group = feature.strip().split(\",\")\n",
    "                    weight = 1.0 / math.sqrt(len(group) + 1.0) # Нормируем длину списка категорий\n",
    "                    vw_line += \" |g{}:{}\".format(i, weight)\n",
    "                    for value in group:\n",
    "                        vw_line += \" {}\".format(value)\n",
    "                            \n",
    "                f_w.write(vw_line + \"\\n\")"
   ]
  },
  {
   "cell_type": "code",
   "execution_count": 128,
   "metadata": {},
   "outputs": [
    {
     "data": {
      "application/vnd.jupyter.widget-view+json": {
       "model_id": "e9aacdaa540b4e9594e4908feb331f2f",
       "version_major": 2,
       "version_minor": 0
      },
      "text/plain": [
       "A Jupyter Widget"
      ]
     },
     "metadata": {},
     "output_type": "display_data"
    },
    {
     "name": "stdout",
     "output_type": "stream",
     "text": [
      "\n"
     ]
    }
   ],
   "source": [
    "preprocess(train_data, os.path.join(PATH, 'vw/train.vw'), train_len)"
   ]
  },
  {
   "cell_type": "code",
   "execution_count": 151,
   "metadata": {},
   "outputs": [
    {
     "data": {
      "application/vnd.jupyter.widget-view+json": {
       "model_id": "a8d892ccc5da48ba9dad0418dfc3252a",
       "version_major": 2,
       "version_minor": 0
      },
      "text/plain": [
       "A Jupyter Widget"
      ]
     },
     "metadata": {},
     "output_type": "display_data"
    },
    {
     "name": "stdout",
     "output_type": "stream",
     "text": [
      "\n"
     ]
    }
   ],
   "source": [
    "preprocess(test_data, os.path.join(PATH, 'vw/test.vw'), test_len, test=True)"
   ]
  },
  {
   "cell_type": "code",
   "execution_count": 201,
   "metadata": {},
   "outputs": [
    {
     "name": "stdout",
     "output_type": "stream",
     "text": [
      "-1 |c1 C1_2733540231 |c2 C2_3500392421 |c3 C3_4454 |c4 C4_15573 |c5 C5_11 |c6 C6_995 |c7 C7_2 |c8 C8_176 |c9 C9_15 |c10 C10_671 |c11 C11_0 |c12 C12_106 |i l1:3.4965075614664802 l12:2.259913890602351 l2:0.0 l22:0.0 |g0:0.15617376188860607 384 382 96 88 185 49 385 268 448 438 279 420 124 123 5 3 17 133 71 409 330 59 57 302 304 395 275 151 113 99 154 155 76 412 139 333 332 335 334 399 |g1:0.7071067811865475  |g2:0.7071067811865475 \r\n"
     ]
    }
   ],
   "source": [
    "!head -n 1 $PATH/vw/train.vw"
   ]
  },
  {
   "cell_type": "code",
   "execution_count": 202,
   "metadata": {},
   "outputs": [
    {
     "name": "stdout",
     "output_type": "stream",
     "text": [
      "-1 |c1 C1_4210358866 |c2 C2_3196051971 |c3 C3_3336 |c4 C4_2094 |c5 C5_22 |c6 C6_995 |c7 C7_0 |c8 C8_361 |c9 C9_15 |c10 C10_566 |c11 C11_0 |c12 C12_103 |i l1:0.0 l12:0.0 l2:0.0 l22:0.0 |g0:0.16222142113076254 176 213 220 222 224 47 422 103 419 74 3 235 238 18 409 177 330 59 58 117 277 276 275 153 152 150 151 99 154 155 76 412 139 333 332 335 334 |g1:0.7071067811865475  |g2:0.7071067811865475 \r\n"
     ]
    }
   ],
   "source": [
    "!head -n 1 $PATH/vw/test.vw"
   ]
  },
  {
   "cell_type": "code",
   "execution_count": null,
   "metadata": {
    "collapsed": true
   },
   "outputs": [],
   "source": []
  },
  {
   "cell_type": "code",
   "execution_count": 175,
   "metadata": {},
   "outputs": [
    {
     "data": {
      "text/plain": [
       "14994876"
      ]
     },
     "execution_count": 175,
     "metadata": {},
     "output_type": "execute_result"
    }
   ],
   "source": [
    "SPLIT = int(train_len/2)\n",
    "SPLIT"
   ]
  },
  {
   "cell_type": "code",
   "execution_count": 199,
   "metadata": {
    "collapsed": true
   },
   "outputs": [],
   "source": [
    "!split -l $SPLIT $PATH/vw/train.vw $PATH/vw/train_"
   ]
  },
  {
   "cell_type": "code",
   "execution_count": 177,
   "metadata": {},
   "outputs": [
    {
     "name": "stdout",
     "output_type": "stream",
     "text": [
      "mv: ./data/vw/train_ab: No such file or directory\r\n"
     ]
    }
   ],
   "source": [
    "!mv $PATH/vw/train_aa $PATH/vw/train_train.vw\n",
    "!mv $PATH/vw/train_ab $PATH/vw/train_valid.vw\n",
    "# !mv $PATH/split/train_ac $PATH/split/train_test.vw"
   ]
  },
  {
   "cell_type": "code",
   "execution_count": 178,
   "metadata": {},
   "outputs": [
    {
     "name": "stdout",
     "output_type": "stream",
     "text": [
      "   96337 ./data/vw/train_train.vw\n",
      " 14994876 ./data/vw/train_valid.vw\n",
      " 15091213 total\n"
     ]
    }
   ],
   "source": [
    "!wc -l $PATH/vw/train_*.vw"
   ]
  },
  {
   "cell_type": "code",
   "execution_count": 179,
   "metadata": {
    "collapsed": true
   },
   "outputs": [],
   "source": [
    "!cat $PATH/vw/train_valid.vw | cut -f 1 -d ' ' > $PATH/vw/train_valid_labels.txt\n",
    "# !cat $PATH/vw/train_test.vw | cut -f 1 -d ' ' > $PATH/vw/train_test_labels.txt"
   ]
  },
  {
   "cell_type": "code",
   "execution_count": 184,
   "metadata": {
    "collapsed": true
   },
   "outputs": [],
   "source": [
    "y_valid = np.loadtxt(os.path.join(PATH, 'vw/train_valid_labels.txt'))\n",
    "# y_test = np.loadtxt(os.path.join(PATH, 'vw/train_test_labels.txt'))"
   ]
  },
  {
   "cell_type": "code",
   "execution_count": null,
   "metadata": {
    "collapsed": true
   },
   "outputs": [],
   "source": [
    "np.unique(y_valid, return_counts=True)"
   ]
  },
  {
   "cell_type": "code",
   "execution_count": 89,
   "metadata": {
    "collapsed": true,
    "scrolled": true
   },
   "outputs": [],
   "source": [
    "# 16 17\n",
    "# l1 = !head -n 2000000 ./data/train.csv | awk '{split($0,a,\";\"); print a[17]}'"
   ]
  },
  {
   "cell_type": "code",
   "execution_count": null,
   "metadata": {
    "collapsed": true
   },
   "outputs": [],
   "source": [
    "# awk -F\"\\t\" '{print $1}' inputs.tsv"
   ]
  },
  {
   "cell_type": "markdown",
   "metadata": {},
   "source": [
    "### Обучение"
   ]
  },
  {
   "cell_type": "code",
   "execution_count": 131,
   "metadata": {
    "collapsed": true
   },
   "outputs": [],
   "source": [
    "def train_vw_model(train_vw_file, model_filename, quiet=True,\n",
    "                   ngram=1, passes=1, bit_precision=28):\n",
    "    init_time = time()\n",
    "    vw_call_string = ('vw {train_vw_file} ' + '-f {model_filename} -b {bit_precision} --random_seed 17' +\n",
    "                      ' --loss_function logistic').format(\n",
    "                       train_vw_file=train_vw_file, model_filename=model_filename, \n",
    "                       bit_precision=bit_precision)\n",
    "    if ngram > 1:\n",
    "         vw_call_string += ' --ngram {}'.format(ngram)     \n",
    "    if passes > 1:\n",
    "         vw_call_string += ' -k --passes {} --cache_file {}'.format(passes, model_filename.replace('.vw', '.cache'))\n",
    "    if quiet:\n",
    "        vw_call_string += ' --quiet'\n",
    "    \n",
    "    \n",
    "    print(vw_call_string) \n",
    "    res = os.system(vw_call_string)\n",
    "    print('{} sec.'.format(round(time() - init_time, 2)))"
   ]
  },
  {
   "cell_type": "code",
   "execution_count": 118,
   "metadata": {
    "collapsed": true
   },
   "outputs": [],
   "source": [
    "def test_vw_model(test_vw_file, model_filename, prediction_filename, true_labels, quiet=True):\n",
    "    init_time = time()\n",
    "    vw_call_string = ('vw -t -i {model_filename} {test_vw_file} --random_seed 17' + \n",
    "                       ' -p {prediction_filename}').format(\n",
    "                       model_filename=model_filename, test_vw_file=test_vw_file, \n",
    "                       prediction_filename=prediction_filename)\n",
    "    if quiet:\n",
    "        vw_call_string += ' --quiet'\n",
    "        \n",
    "    print(vw_call_string) \n",
    "    res = os.system(vw_call_string)\n",
    "    \n",
    "    vw_pred = np.loadtxt(prediction_filename)\n",
    "    print(\"log_loss: {}. Elapsed: {} sec.\".format(\n",
    "        round(log_loss(true_labels, vw_pred), 4), round(time() - init_time, 2)))"
   ]
  },
  {
   "cell_type": "code",
   "execution_count": 130,
   "metadata": {
    "collapsed": true
   },
   "outputs": [],
   "source": [
    "train_vw_model(os.path.join(PATH, 'vw/train_train.vw'),\n",
    "               os.path.join(PATH, 'model/vw_model.vw'), \n",
    "               quiet=False,\n",
    "               ngram=1, passes=2)"
   ]
  },
  {
   "cell_type": "code",
   "execution_count": 120,
   "metadata": {},
   "outputs": [
    {
     "name": "stdout",
     "output_type": "stream",
     "text": [
      "vw -t -i ./data/model/vw_model.vw ./data/vw/train_valid.vw --random_seed 17 -p ./data/vw/train_valid_pred.txt\n",
      "log_loss: 0.07%. Elapsed: 23.38 sec.\n"
     ]
    }
   ],
   "source": [
    "test_vw_model(os.path.join(PATH, 'vw/train_valid.vw'), os.path.join(PATH, 'model/vw_model.vw'), \n",
    "              os.path.join(PATH, 'vw/train_valid_pred.txt'), y_valid, quiet=False)"
   ]
  },
  {
   "cell_type": "code",
   "execution_count": null,
   "metadata": {
    "collapsed": true
   },
   "outputs": [],
   "source": []
  },
  {
   "cell_type": "code",
   "execution_count": null,
   "metadata": {
    "collapsed": true
   },
   "outputs": [],
   "source": [
    "########################"
   ]
  },
  {
   "cell_type": "code",
   "execution_count": 138,
   "metadata": {
    "collapsed": true
   },
   "outputs": [],
   "source": [
    "y_valid_prob = []\n",
    "for x in y_valid:\n",
    "    y_valid_prob.append(0.0 if x == -1 else x)"
   ]
  },
  {
   "cell_type": "code",
   "execution_count": 195,
   "metadata": {},
   "outputs": [
    {
     "name": "stdout",
     "output_type": "stream",
     "text": [
      "CPU times: user 36.9 s, sys: 1min 18s, total: 1min 55s\n",
      "Wall time: 43min 57s\n"
     ]
    }
   ],
   "source": [
    "%%time\n",
    "# !vw -d ./data/vw/train_train.vw \\\n",
    "!vw -d ./data/vw/train.vw \\\n",
    "-f ./data/model/vw_model.vw \\\n",
    "--loss_function logistic \\\n",
    "--bit_precision 28 \\\n",
    "--learning_rate 0.2 \\\n",
    "--passes 20 --kill_cache --cache_file ./data/model/vw_model.cache \\\n",
    "--power_t 0.1 \\\n",
    "--quiet\n",
    "\n",
    "# --ignore g0 \\\n",
    "# --lrq 2 \\\n",
    "# --ftrl --ftrl_alpha 0.1 --ftrl_beta 1.5 "
   ]
  },
  {
   "cell_type": "code",
   "execution_count": 196,
   "metadata": {},
   "outputs": [
    {
     "name": "stdout",
     "output_type": "stream",
     "text": [
      "CPU times: user 3.02 s, sys: 7.02 s, total: 10 s\n",
      "Wall time: 3min 52s\n"
     ]
    }
   ],
   "source": [
    "%%time\n",
    "# !vw -d ./data/vw/train_valid.vw \\\n",
    "!vw -d ./data/vw/test.vw \\\n",
    "-t -i ./data/model/vw_model.vw \\\n",
    "--loss_function logistic \\\n",
    "--quiet \\\n",
    "-p ./data/vw/test_pred7.txt\n",
    "# -p ./data/vw/valid_pred.txt"
   ]
  },
  {
   "cell_type": "code",
   "execution_count": 149,
   "metadata": {
    "collapsed": true
   },
   "outputs": [],
   "source": [
    "y_pred =  np.loadtxt(os.path.join(PATH, 'vw/valid_pred.txt'))\n",
    "y_pred_prob = []\n",
    "for x in y_pred:\n",
    "    y_pred_prob.append(1/(1 + np.exp(-x)))"
   ]
  },
  {
   "cell_type": "code",
   "execution_count": 150,
   "metadata": {},
   "outputs": [
    {
     "data": {
      "text/plain": [
       "0.015164122319547087"
      ]
     },
     "execution_count": 150,
     "metadata": {},
     "output_type": "execute_result"
    }
   ],
   "source": [
    "log_loss(y_valid_prob, y_pred_prob)"
   ]
  },
  {
   "cell_type": "code",
   "execution_count": null,
   "metadata": {
    "collapsed": true
   },
   "outputs": [],
   "source": []
  },
  {
   "cell_type": "code",
   "execution_count": null,
   "metadata": {
    "collapsed": true
   },
   "outputs": [],
   "source": []
  },
  {
   "cell_type": "markdown",
   "metadata": {
    "collapsed": true
   },
   "source": [
    "### Submit"
   ]
  },
  {
   "cell_type": "code",
   "execution_count": 197,
   "metadata": {
    "collapsed": true
   },
   "outputs": [],
   "source": [
    "y_pred =  np.loadtxt(os.path.join(PATH, 'vw/test_pred7.txt'))"
   ]
  },
  {
   "cell_type": "code",
   "execution_count": 198,
   "metadata": {
    "collapsed": true
   },
   "outputs": [],
   "source": [
    "with open('./data/submit/sample_submit7.txt', 'w') as f_w:\n",
    "    f_w.write('Id,Click\\n')\n",
    "    for i, label in enumerate(y_pred):\n",
    "        prob = 1/(1 + np.exp(-label))\n",
    "        f_w.write(str(i+1) + ',' + str(prob) + '\\n')"
   ]
  },
  {
   "cell_type": "code",
   "execution_count": null,
   "metadata": {
    "collapsed": true
   },
   "outputs": [],
   "source": []
  },
  {
   "cell_type": "code",
   "execution_count": null,
   "metadata": {
    "collapsed": true
   },
   "outputs": [],
   "source": []
  },
  {
   "cell_type": "code",
   "execution_count": null,
   "metadata": {
    "collapsed": true
   },
   "outputs": [],
   "source": []
  }
 ],
 "metadata": {
  "kernelspec": {
   "display_name": "Python 3",
   "language": "python",
   "name": "python3"
  },
  "language_info": {
   "codemirror_mode": {
    "name": "ipython",
    "version": 3
   },
   "file_extension": ".py",
   "mimetype": "text/x-python",
   "name": "python",
   "nbconvert_exporter": "python",
   "pygments_lexer": "ipython3",
   "version": "3.6.3"
  },
  "varInspector": {
   "cols": {
    "lenName": 16,
    "lenType": 16,
    "lenVar": 40
   },
   "kernels_config": {
    "python": {
     "delete_cmd_postfix": "",
     "delete_cmd_prefix": "del ",
     "library": "var_list.py",
     "varRefreshCmd": "print(var_dic_list())"
    },
    "r": {
     "delete_cmd_postfix": ") ",
     "delete_cmd_prefix": "rm(",
     "library": "var_list.r",
     "varRefreshCmd": "cat(var_dic_list()) "
    }
   },
   "types_to_exclude": [
    "module",
    "function",
    "builtin_function_or_method",
    "instance",
    "_Feature"
   ],
   "window_display": false
  }
 },
 "nbformat": 4,
 "nbformat_minor": 2
}
